{
 "cells": [
  {
   "attachments": {},
   "cell_type": "markdown",
   "metadata": {},
   "source": [
    "# Pytorch Lightning Tutorial"
   ]
  },
  {
   "attachments": {},
   "cell_type": "markdown",
   "metadata": {},
   "source": [
    "This model will be a binary classification model to either say that the data contains background (B) only or background + signal (B + S)."
   ]
  },
  {
   "attachments": {},
   "cell_type": "markdown",
   "metadata": {},
   "source": [
    "## Advatages of Pytorch Lightning\n",
    "\n",
    "- Easy to install using pip.\n",
    "- Framework’s code tends to be simple, clean, and easy to reproduce, because engineering code is abstracted away.\n",
    "- It supports 16-bit precision. This helps in speeding up model training.\n",
    "- It can run ***distributed training***. It supports training on multiple machines at the same time. PL handles the computing architecture on its own.\n",
    "- It supports model checkpointing. Checkpointing is a way to save the current state of your experiment so that you can pick up from where you left off. This helps to recover previous states in case something happens i.e., power outages.\n",
    "- It integrates easily with other popular machine learning tools (e.g., Google’s Tensorboard).\n",
    "- Compared to PyTorch, it has a minimum running speed overhead of about 300ms which makes it pretty fast.\n",
    "- Its models are hardware agnostic. If it runs on CPU, it will run on any GPU or TPU machines.\n",
    "- More pythonic style with class based structure.\n",
    "- Very active community."
   ]
  },
  {
   "attachments": {},
   "cell_type": "markdown",
   "metadata": {},
   "source": [
    "## Import Modules"
   ]
  },
  {
   "cell_type": "code",
   "execution_count": 144,
   "metadata": {},
   "outputs": [],
   "source": [
    "# BUILD ON TOP OF TORCH\n",
    "import torch\n",
    "import torch.nn as nn\n",
    "from torch.optim import Adam\n",
    "from torch.utils.data import DataLoader, Dataset\n",
    "from torch.distributions import Normal, Uniform\n",
    "from torch.functional import F\n",
    "# LIGHTNING \n",
    "import pytorch_lightning as pl\n",
    "from pytorch_lightning.trainer import Trainer\n",
    "from pytorch_lightning.callbacks import TQDMProgressBar\n",
    "# from pytorch_lightning.callbacks.early_stopping import EarlyStopping -> really nioce why to implement early stopping\n",
    "\n",
    "# PLOTTING\n",
    "import matplotlib.pyplot as plt\n",
    "import numpy as np"
   ]
  },
  {
   "attachments": {},
   "cell_type": "markdown",
   "metadata": {},
   "source": [
    "## Data"
   ]
  },
  {
   "attachments": {},
   "cell_type": "markdown",
   "metadata": {},
   "source": [
    "### Define the Dataset and structure "
   ]
  },
  {
   "cell_type": "code",
   "execution_count": 145,
   "metadata": {},
   "outputs": [],
   "source": [
    "class SignalDataset(Dataset):\n",
    "    def __init__(self, size) -> None:\n",
    "        super().__init__()\n",
    "\n",
    "        # mass of hypothetical particle in GeV\n",
    "        self.mass_hyp_particle = 0.3 # GeV\n",
    "\n",
    "        # dataset\n",
    "        self.dataset = {}\n",
    "\n",
    "        # size of the dataset\n",
    "        self.size = size\n",
    "\n",
    "        # number of events\n",
    "        self.num_events = 100000\n",
    "        \n",
    "        # range of the dataset\n",
    "        xrange = torch.linspace(0, 1, 21)\n",
    "\n",
    "        # distributions\n",
    "        bkg = Uniform(low=0, \n",
    "                      high=1)\n",
    "        signal = Normal(loc=self.mass_hyp_particle,\n",
    "                        scale=0.001)\n",
    "\n",
    "        for gen_idx in range(self.size):\n",
    "\n",
    "            # half must be bkg only\n",
    "            # other half is bgk + signal\n",
    "            if gen_idx < int(self.size/2):\n",
    "                x = bkg.rsample(sample_shape=(self.num_events,))\n",
    "                Y = torch.tensor(data=[0.0])\n",
    "            else:\n",
    "                x = 0.1 * signal.rsample(sample_shape=(self.num_events,)) + \\\n",
    "                    0.9 * bkg.rsample(sample_shape=(self.num_events,))\n",
    "                Y = torch.tensor(data=[1.0])\n",
    "\n",
    "            hist, bins = torch.histogram(input=x,\n",
    "                                         bins=xrange,\n",
    "                                         density=True)\n",
    "            # cbins = (bins[1:] + bins[:-1])/2\n",
    "            X = hist\n",
    "            \n",
    "            # put everything into the dataset\n",
    "            self.dataset[gen_idx] = [X, Y]\n",
    "\n",
    "    # this is necessary\n",
    "    def __len__(self):\n",
    "        return self.size\n",
    "\n",
    "    # this is necessary\n",
    "    def __getitem__(self, index):\n",
    "        return self.dataset[index]"
   ]
  },
  {
   "attachments": {},
   "cell_type": "markdown",
   "metadata": {},
   "source": [
    "### Generate the data and put into loader"
   ]
  },
  {
   "cell_type": "code",
   "execution_count": 146,
   "metadata": {},
   "outputs": [],
   "source": [
    "# initialize dataset\n",
    "train_dataset = SignalDataset(size=1000)\n",
    "val_dataset = SignalDataset(size=100)\n",
    "test_dataset = SignalDataset(size=100)\n",
    "# initialize dataloader that allows very nice \n",
    "# applications, such as transforms and shuffling...\n",
    "train_dataloader = DataLoader(dataset=train_dataset,\n",
    "                        batch_size=16,\n",
    "                        shuffle=True)\n",
    "val_dataloader = DataLoader(dataset=val_dataset,\n",
    "                        batch_size=16,\n",
    "                        shuffle=True)\n",
    "test_dataloader = DataLoader(dataset=test_dataset,\n",
    "                        batch_size=16)"
   ]
  },
  {
   "attachments": {},
   "cell_type": "markdown",
   "metadata": {},
   "source": []
  },
  {
   "attachments": {},
   "cell_type": "markdown",
   "metadata": {},
   "source": [
    "## Model"
   ]
  },
  {
   "cell_type": "code",
   "execution_count": 147,
   "metadata": {},
   "outputs": [],
   "source": [
    "class ClassificationModel(pl.LightningModule):\n",
    "    def __init__(self):\n",
    "        super().__init__()\n",
    "\n",
    "        self.train_loss_total = []\n",
    "        self.val_loss_total = []\n",
    "        self.total_acc = []\n",
    "\n",
    "        self.performance = None\n",
    "\n",
    "        self.model = nn.Sequential(\n",
    "            nn.Linear(20, 20),\n",
    "            nn.PReLU(),\n",
    "            nn.Linear(20, 20),\n",
    "            nn.PReLU(),\n",
    "            nn.Linear(20, 20),\n",
    "            nn.PReLU(),\n",
    "            nn.Linear(20, 1),\n",
    "            nn.Sigmoid()\n",
    "        )\n",
    "\n",
    "    def forward(self, x):\n",
    "        return self.model(x)\n",
    "\n",
    "    def configure_optimizers(self):\n",
    "        return Adam(self.parameters())\n",
    "\n",
    "    def training_step(self, batch, batch_idx):\n",
    "        x, y = batch\n",
    "        train_loss = F.binary_cross_entropy(self.model(x), y)\n",
    "        self.train_loss_total.append(train_loss.detach().numpy())\n",
    "        return train_loss \n",
    "    \n",
    "    \n",
    "    def validation_step(self, batch, batch_idx):\n",
    "        x, y = batch\n",
    "        val_loss = F.binary_cross_entropy(self.model(x), y)\n",
    "        self.val_loss_total.append(val_loss.detach().numpy())\n",
    "        return val_loss\n",
    "    \n",
    "    def test_step(self, batch, batch_idx):\n",
    "        x, y = batch\n",
    "        y_pred = torch.round(self.model(x))\n",
    "        accuracy = torch.sum(y == y_pred)/len(y_pred)\n",
    "        self.total_acc.append(accuracy.detach().numpy())\n",
    "        return accuracy\n"
   ]
  },
  {
   "attachments": {},
   "cell_type": "markdown",
   "metadata": {},
   "source": [
    "## Training"
   ]
  },
  {
   "cell_type": "code",
   "execution_count": 148,
   "metadata": {},
   "outputs": [
    {
     "name": "stderr",
     "output_type": "stream",
     "text": [
      "GPU available: False, used: False\n",
      "TPU available: False, using: 0 TPU cores\n",
      "IPU available: False, using: 0 IPUs\n",
      "HPU available: False, using: 0 HPUs\n",
      "\n",
      "  | Name  | Type       | Params\n",
      "-------------------------------------\n",
      "0 | model | Sequential | 1.3 K \n",
      "-------------------------------------\n",
      "1.3 K     Trainable params\n",
      "0         Non-trainable params\n",
      "1.3 K     Total params\n",
      "0.005     Total estimated model params size (MB)\n"
     ]
    },
    {
     "data": {
      "application/vnd.jupyter.widget-view+json": {
       "model_id": "b6e49cf235954a848b2ae11bf5317e7c",
       "version_major": 2,
       "version_minor": 0
      },
      "text/plain": [
       "Sanity Checking: 0it [00:00, ?it/s]"
      ]
     },
     "metadata": {},
     "output_type": "display_data"
    },
    {
     "name": "stderr",
     "output_type": "stream",
     "text": [
      "/opt/homebrew/lib/python3.9/site-packages/pytorch_lightning/trainer/connectors/data_connector.py:486: PossibleUserWarning: Your `val_dataloader`'s sampler has shuffling enabled, it is strongly recommended that you turn shuffling off for val/test/predict dataloaders.\n",
      "  rank_zero_warn(\n",
      "/opt/homebrew/lib/python3.9/site-packages/pytorch_lightning/trainer/connectors/data_connector.py:240: PossibleUserWarning: The dataloader, val_dataloader 0, does not have many workers which may be a bottleneck. Consider increasing the value of the `num_workers` argument` (try 8 which is the number of cpus on this machine) in the `DataLoader` init to improve performance.\n",
      "  rank_zero_warn(\n",
      "/opt/homebrew/lib/python3.9/site-packages/pytorch_lightning/trainer/connectors/data_connector.py:240: PossibleUserWarning: The dataloader, train_dataloader, does not have many workers which may be a bottleneck. Consider increasing the value of the `num_workers` argument` (try 8 which is the number of cpus on this machine) in the `DataLoader` init to improve performance.\n",
      "  rank_zero_warn(\n"
     ]
    },
    {
     "data": {
      "application/vnd.jupyter.widget-view+json": {
       "model_id": "ddf2af69d1d2481d8934c39c4e124576",
       "version_major": 2,
       "version_minor": 0
      },
      "text/plain": [
       "Training: 0it [00:00, ?it/s]"
      ]
     },
     "metadata": {},
     "output_type": "display_data"
    },
    {
     "data": {
      "application/vnd.jupyter.widget-view+json": {
       "model_id": "ed85a20b80ac41c0906aeb97848d0973",
       "version_major": 2,
       "version_minor": 0
      },
      "text/plain": [
       "Validation: 0it [00:00, ?it/s]"
      ]
     },
     "metadata": {},
     "output_type": "display_data"
    },
    {
     "data": {
      "application/vnd.jupyter.widget-view+json": {
       "model_id": "b809a979b6094b1ea7a244f0271c26b6",
       "version_major": 2,
       "version_minor": 0
      },
      "text/plain": [
       "Validation: 0it [00:00, ?it/s]"
      ]
     },
     "metadata": {},
     "output_type": "display_data"
    },
    {
     "data": {
      "application/vnd.jupyter.widget-view+json": {
       "model_id": "063480be0acb4d63bcc9752750ca7b83",
       "version_major": 2,
       "version_minor": 0
      },
      "text/plain": [
       "Validation: 0it [00:00, ?it/s]"
      ]
     },
     "metadata": {},
     "output_type": "display_data"
    },
    {
     "data": {
      "application/vnd.jupyter.widget-view+json": {
       "model_id": "a88a79ea2e0a4c0aa00d50f91a717ce7",
       "version_major": 2,
       "version_minor": 0
      },
      "text/plain": [
       "Validation: 0it [00:00, ?it/s]"
      ]
     },
     "metadata": {},
     "output_type": "display_data"
    },
    {
     "data": {
      "application/vnd.jupyter.widget-view+json": {
       "model_id": "ea709796577749c6985836e7d26eadb7",
       "version_major": 2,
       "version_minor": 0
      },
      "text/plain": [
       "Validation: 0it [00:00, ?it/s]"
      ]
     },
     "metadata": {},
     "output_type": "display_data"
    },
    {
     "data": {
      "application/vnd.jupyter.widget-view+json": {
       "model_id": "3d03a2e5f854458cba92d8d5f5ac6eb6",
       "version_major": 2,
       "version_minor": 0
      },
      "text/plain": [
       "Validation: 0it [00:00, ?it/s]"
      ]
     },
     "metadata": {},
     "output_type": "display_data"
    },
    {
     "data": {
      "application/vnd.jupyter.widget-view+json": {
       "model_id": "1b793b9abf864c908c3f6138521a1f5d",
       "version_major": 2,
       "version_minor": 0
      },
      "text/plain": [
       "Validation: 0it [00:00, ?it/s]"
      ]
     },
     "metadata": {},
     "output_type": "display_data"
    },
    {
     "data": {
      "application/vnd.jupyter.widget-view+json": {
       "model_id": "eb1970a92a16424588c134b0044e8c36",
       "version_major": 2,
       "version_minor": 0
      },
      "text/plain": [
       "Validation: 0it [00:00, ?it/s]"
      ]
     },
     "metadata": {},
     "output_type": "display_data"
    },
    {
     "data": {
      "application/vnd.jupyter.widget-view+json": {
       "model_id": "35b265144ed344cfa22996f17de58214",
       "version_major": 2,
       "version_minor": 0
      },
      "text/plain": [
       "Validation: 0it [00:00, ?it/s]"
      ]
     },
     "metadata": {},
     "output_type": "display_data"
    },
    {
     "data": {
      "application/vnd.jupyter.widget-view+json": {
       "model_id": "0af91b459f904b318cf6e943a06d5556",
       "version_major": 2,
       "version_minor": 0
      },
      "text/plain": [
       "Validation: 0it [00:00, ?it/s]"
      ]
     },
     "metadata": {},
     "output_type": "display_data"
    }
   ],
   "source": [
    "model = ClassificationModel()\n",
    "trainer = Trainer(min_epochs=1,\n",
    "                  max_epochs=10,\n",
    "                  callbacks=[TQDMProgressBar(refresh_rate=10)]) # lots of methods that make training easy and trackable\n",
    "trainer.fit(model=model,\n",
    "            train_dataloaders=train_dataloader,\n",
    "            val_dataloaders=val_dataloader)\n"
   ]
  },
  {
   "attachments": {},
   "cell_type": "markdown",
   "metadata": {},
   "source": [
    "### Losses"
   ]
  },
  {
   "cell_type": "code",
   "execution_count": 149,
   "metadata": {},
   "outputs": [
    {
     "data": {
      "text/plain": [
       "[<matplotlib.lines.Line2D at 0x168e5af10>]"
      ]
     },
     "execution_count": 149,
     "metadata": {},
     "output_type": "execute_result"
    },
    {
     "data": {
      "image/png": "[encoded data removed]",
      "text/plain": [
       "<Figure size 432x288 with 1 Axes>"
      ]
     },
     "metadata": {
      "needs_background": "light"
     },
     "output_type": "display_data"
    }
   ],
   "source": [
    "plt.plot(model.train_loss_total)\n"
   ]
  },
  {
   "cell_type": "code",
   "execution_count": 150,
   "metadata": {},
   "outputs": [
    {
     "data": {
      "text/plain": [
       "[<matplotlib.lines.Line2D at 0x168ec4a30>]"
      ]
     },
     "execution_count": 150,
     "metadata": {},
     "output_type": "execute_result"
    },
    {
     "data": {
      "image/png": "[encoded data removed]",
      "text/plain": [
       "<Figure size 432x288 with 1 Axes>"
      ]
     },
     "metadata": {
      "needs_background": "light"
     },
     "output_type": "display_data"
    }
   ],
   "source": [
    "plt.plot(model.val_loss_total)"
   ]
  },
  {
   "cell_type": "code",
   "execution_count": 151,
   "metadata": {},
   "outputs": [
    {
     "name": "stderr",
     "output_type": "stream",
     "text": [
      "/opt/homebrew/lib/python3.9/site-packages/pytorch_lightning/trainer/connectors/data_connector.py:240: PossibleUserWarning: The dataloader, test_dataloader 0, does not have many workers which may be a bottleneck. Consider increasing the value of the `num_workers` argument` (try 8 which is the number of cpus on this machine) in the `DataLoader` init to improve performance.\n",
      "  rank_zero_warn(\n"
     ]
    },
    {
     "data": {
      "application/vnd.jupyter.widget-view+json": {
       "model_id": "d930b1a4de58421daae63d8f8f215b83",
       "version_major": 2,
       "version_minor": 0
      },
      "text/plain": [
       "Testing: 0it [00:00, ?it/s]"
      ]
     },
     "metadata": {},
     "output_type": "display_data"
    },
    {
     "data": {
      "text/plain": [
       "[{}]"
      ]
     },
     "execution_count": 151,
     "metadata": {},
     "output_type": "execute_result"
    }
   ],
   "source": [
    "trainer.test(model=model,\n",
    "             dataloaders=test_dataloader)"
   ]
  },
  {
   "cell_type": "code",
   "execution_count": 152,
   "metadata": {},
   "outputs": [
    {
     "data": {
      "text/plain": [
       "1.0"
      ]
     },
     "execution_count": 152,
     "metadata": {},
     "output_type": "execute_result"
    }
   ],
   "source": [
    "np.mean(model.total_acc)"
   ]
  },
  {
   "attachments": {},
   "cell_type": "markdown",
   "metadata": {},
   "source": [
    "### Look at certain events"
   ]
  },
  {
   "cell_type": "code",
   "execution_count": 155,
   "metadata": {},
   "outputs": [
    {
     "data": {
      "text/plain": [
       "<matplotlib.legend.Legend at 0x16901bb80>"
      ]
     },
     "execution_count": 155,
     "metadata": {},
     "output_type": "execute_result"
    },
    {
     "data": {
      "image/png": "[encoded data removed]",
      "text/plain": [
       "<Figure size 432x288 with 1 Axes>"
      ]
     },
     "metadata": {
      "needs_background": "light"
     },
     "output_type": "display_data"
    }
   ],
   "source": [
    "bkg_only_x, bkg_only_y = test_dataset[0]\n",
    "mixed_x, mixed_y = test_dataset[51]\n",
    "\n",
    "plt.plot(np.linspace(0, 1, 20), np.array(bkg_only_x), label=f\"True:{bkg_only_y.detach().numpy()[0]}, Pred: {model(bkg_only_x).detach().numpy()[0]}\")\n",
    "plt.plot(np.linspace(0, 1, 20), np.array(mixed_x), label=f\"True:{mixed_y.detach().numpy()[0]}, Pred: {model(mixed_x).detach().numpy()[0]}\")\n",
    "plt.legend()\n"
   ]
  }
 ],
 "metadata": {
  "kernelspec": {
   "display_name": "base",
   "language": "python",
   "name": "python3"
  },
  "language_info": {
   "codemirror_mode": {
    "name": "ipython",
    "version": 3
   },
   "file_extension": ".py",
   "mimetype": "text/x-python",
   "name": "python",
   "nbconvert_exporter": "python",
   "pygments_lexer": "ipython3",
   "version": "3.9.13"
  },
  "orig_nbformat": 4
 },
 "nbformat": 4,
 "nbformat_minor": 2
}
